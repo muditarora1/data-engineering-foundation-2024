{
 "cells": [
  {
   "cell_type": "code",
   "execution_count": 1,
   "id": "89f7bac2-1571-43f3-8c5f-25225077363e",
   "metadata": {},
   "outputs": [],
   "source": [
    "my_dict = {'name': 'John', 'age': 25}\n",
    "update_dict = {'age': 26, 'city': 'New York'}\n",
    "my_dict.update(update_dict)"
   ]
  },
  {
   "cell_type": "code",
   "execution_count": 2,
   "id": "88fcaf22-242c-47e0-b070-0caf640b3253",
   "metadata": {},
   "outputs": [
    {
     "data": {
      "text/plain": [
       "{'name': 'John', 'age': 26, 'city': 'New York'}"
      ]
     },
     "execution_count": 2,
     "metadata": {},
     "output_type": "execute_result"
    }
   ],
   "source": [
    "my_dict"
   ]
  },
  {
   "cell_type": "code",
   "execution_count": 3,
   "id": "e8266992-583f-4e8b-9250-4ac4286977ca",
   "metadata": {},
   "outputs": [
    {
     "ename": "SyntaxError",
     "evalue": "expression cannot contain assignment, perhaps you meant \"==\"? (2333235983.py, line 1)",
     "output_type": "error",
     "traceback": [
      "\u001b[1;36m  Cell \u001b[1;32mIn[3], line 1\u001b[1;36m\u001b[0m\n\u001b[1;33m    my_dict.update('age'=27)\u001b[0m\n\u001b[1;37m                   ^\u001b[0m\n\u001b[1;31mSyntaxError\u001b[0m\u001b[1;31m:\u001b[0m expression cannot contain assignment, perhaps you meant \"==\"?\n"
     ]
    }
   ],
   "source": [
    "my_dict.update('age'=27)"
   ]
  },
  {
   "cell_type": "code",
   "execution_count": 7,
   "id": "cd13b337-0ffc-47c6-84da-b9eea9f635d5",
   "metadata": {},
   "outputs": [],
   "source": [
    "my_dict = {'name': 'John', 'age': 25}\n",
    "my_dict.update(age=26)"
   ]
  },
  {
   "cell_type": "code",
   "execution_count": 8,
   "id": "67701464-47b2-419b-bef5-2b34d2725266",
   "metadata": {},
   "outputs": [
    {
     "data": {
      "text/plain": [
       "{'name': 'John', 'age': 26}"
      ]
     },
     "execution_count": 8,
     "metadata": {},
     "output_type": "execute_result"
    }
   ],
   "source": [
    "my_dict"
   ]
  },
  {
   "cell_type": "code",
   "execution_count": null,
   "id": "3bc4b91e-8e5f-49dd-9bca-9db6e1215f73",
   "metadata": {},
   "outputs": [],
   "source": []
  }
 ],
 "metadata": {
  "kernelspec": {
   "display_name": "Python 3 (ipykernel)",
   "language": "python",
   "name": "python3"
  },
  "language_info": {
   "codemirror_mode": {
    "name": "ipython",
    "version": 3
   },
   "file_extension": ".py",
   "mimetype": "text/x-python",
   "name": "python",
   "nbconvert_exporter": "python",
   "pygments_lexer": "ipython3",
   "version": "3.9.18"
  }
 },
 "nbformat": 4,
 "nbformat_minor": 5
}
